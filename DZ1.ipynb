{
 "cells": [
  {
   "cell_type": "markdown",
   "id": "395dd584",
   "metadata": {},
   "source": [
    "## Задача 1\n",
    "Оформляйте ноутбук, используя эти советы:\n",
    "\n",
    "## Номер задачи - заголовок 2\n",
    "## Номер подзадачи - заголовок 3\n",
    "Предоставленные наборы данных оформляйте, как код"
   ]
  },
  {
   "cell_type": "markdown",
   "id": "02e5b5e6",
   "metadata": {},
   "source": [
    "## Условие 2:\n",
    "На складе лежат разные фрукты в разном количестве.\n",
    "Нужно написать функцию, которая на вход принимает любое \n",
    "количество названий фруктов и их количество, а возвращает общее количество фруктов на складе"
   ]
  },
  {
   "cell_type": "code",
   "execution_count": 425,
   "id": "868ff9f4",
   "metadata": {},
   "outputs": [
    {
     "name": "stdout",
     "output_type": "stream",
     "text": [
      "Total fruits: 19\n"
     ]
    }
   ],
   "source": [
    "def fruits(**kwargs):\n",
    "    \n",
    "    total_fruits = sum(kwargs.values())\n",
    "    \n",
    "    return f'Total fruits: {total_fruits}'\n",
    "print(fruits(apples=10, pears=5, bananas=4))"
   ]
  },
  {
   "cell_type": "markdown",
   "id": "83c2214f",
   "metadata": {},
   "source": [
    "Условие 3:\n",
    "Дан список с затратами на рекламу. Но в данных есть ошибки, некоторые затраты имеют отрицательную величину. \n",
    "Удалите такие значения из списка и посчитайте суммарные затраты\n",
    "[100, 125, -90, 345, 655, -1, 0, 200]\n",
    "Используйте list comprehensions"
   ]
  },
  {
   "cell_type": "code",
   "execution_count": 451,
   "id": "d56c4b98",
   "metadata": {},
   "outputs": [],
   "source": [
    "def func (listToClin: list):\n",
    "    newList=[]\n",
    "    for item in listToClin:\n",
    "        if item>0:\n",
    "            newList.append(item)\n",
    "    print(newList)\n",
    "    print(f'Сумма затрат без отрицательных значений:{sum(newList)}')  \n"
   ]
  },
  {
   "cell_type": "code",
   "execution_count": 452,
   "id": "b77bdd53",
   "metadata": {},
   "outputs": [
    {
     "name": "stdout",
     "output_type": "stream",
     "text": [
      "[100, 125, 345, 655, 200]\n",
      "Сумма затрат без отрицательных значений:1425\n"
     ]
    }
   ],
   "source": [
    "func([100, 125, -90, 345, 655, -1, 0, 200])"
   ]
  },
  {
   "cell_type": "code",
   "execution_count": 435,
   "id": "3da9d7e9",
   "metadata": {},
   "outputs": [
    {
     "name": "stdout",
     "output_type": "stream",
     "text": [
      "Сумма затрат без отрицательных значений: 1425\n"
     ]
    }
   ],
   "source": [
    "CostAdv=[100, 125, -90, 345, 655, -1, 0, 200]\n",
    "    \n",
    "print('Сумма затрат без отрицательных значений:', sum([cost for cost in CostAdv if cost>0 ]))"
   ]
  },
  {
   "cell_type": "markdown",
   "id": "0b54eb70",
   "metadata": {},
   "source": [
    "### Условие 4.1:\n",
    "Даны два списка.\n",
    "Дата покупки\n",
    "['2021-09-14', '2021-12-15', '2021-09-08', '2021-12-05', '2021-10-09', '2021-09-30', '2021-12-22', '2021-11-29', '2021-12-24', '2021-11-26', '2021-10-27', '2021-12-18', '2021-11-09', '2021-11-23', '2021-09-27', '2021-10-02', '2021-12-27', '2021-09-20', '2021-12-13', '2021-11-01', '2021-11-09', '2021-12-06', '2021-12-08', '2021-10-09', '2021-10-31', '2021-09-30', '2021-11-09', '2021-12-13', '2021-10-26', '2021-12-09']\n",
    "Суммы покупок по датам\n",
    "[1270, 8413, 9028, 3703, 5739, 4095, 295, 4944, 5723, 3701, 4471, 651, 7037, 4274, 6275, 4988, 6930, 2971, 6592, 2004, 2822, 519, 3406, 2732, 5015, 2008, 316, 6333, 5700, 2887]\n",
    "\n",
    "### 4.1 Найдите, какая выручка у компании в ноябре\n",
    "Используйте list comprehensions"
   ]
  },
  {
   "cell_type": "code",
   "execution_count": 475,
   "id": "ae8621f3",
   "metadata": {},
   "outputs": [],
   "source": [
    "def func1 (dates: list, valuem: list):\n",
    "    sumNov=[]\n",
    "    for i in range(len(dates)):\n",
    "        if dates[i].split('-')[1] == '11':\n",
    "            sumNov.append(valuem[i])\n",
    "    print(sum(sumNov))\n"
   ]
  },
  {
   "cell_type": "code",
   "execution_count": 485,
   "id": "e0f50851",
   "metadata": {},
   "outputs": [],
   "source": [
    "dat=  ['2021-09-14','2021-12-15','2021-09-08', '2021-12-05', \n",
    "       '2021-10-09','2021-09-30','2021-12-22', '2021-11-29', \n",
    "       '2021-12-24','2021-11-26','2021-10-27', '2021-12-18', \n",
    "       '2021-11-09','2021-11-23','2021-09-27', '2021-10-02',\n",
    "       '2021-12-27','2021-09-20','2021-12-13', '2021-11-01',\n",
    "       '2021-11-09','2021-12-06','2021-12-08', '2021-10-09',\n",
    "       '2021-10-31','2021-09-30','2021-11-09', '2021-12-13', \n",
    "       '2021-10-26','2021-12-09'] \n",
    "Pocupki= [1270, 8413, 9028, 3703, 5739, 4095, 295, 4944, 5723,\n",
    "          3701, 4471, 651, 7037, 4274, 6275, 4988, 6930, 2971, \n",
    "          6592, 2004, 2822, 519, 3406, 2732, 5015, 2008, 316, \n",
    "           333, 5700, 2887]"
   ]
  },
  {
   "cell_type": "code",
   "execution_count": 477,
   "id": "c1eca296",
   "metadata": {},
   "outputs": [
    {
     "name": "stdout",
     "output_type": "stream",
     "text": [
      "25098\n"
     ]
    }
   ],
   "source": [
    "func1(dat, Pocupki)"
   ]
  },
  {
   "cell_type": "code",
   "execution_count": 479,
   "id": "3d26847b",
   "metadata": {},
   "outputs": [
    {
     "name": "stdout",
     "output_type": "stream",
     "text": [
      "25098\n"
     ]
    }
   ],
   "source": [
    "print(sum([Pocupki[i] for i in range(len(dat)) if '-11-' in dat[i]]))"
   ]
  },
  {
   "cell_type": "markdown",
   "id": "dc6a6108",
   "metadata": {},
   "source": [
    "4.2 Найдите выручку компании в зависимости от месяца\n",
    "Для этого напишите функцию, которая на вход принимает список с датами и список с выручкой, а на выходе словарь, где ключи - это месяцы, а значения - это выручка.\n",
    "Используйте аннотирование типов."
   ]
  },
  {
   "cell_type": "code",
   "execution_count": 538,
   "id": "3b0bea22",
   "metadata": {},
   "outputs": [],
   "source": [
    "def monfProf(dates: list, profits: list):\n",
    "    pro=[x for x in profits]\n",
    "    \n",
    "#     for _ in profits:\n",
    "#         pro=profits\n",
    "    \n",
    "    profit={}\n",
    "    \n",
    "    for i in range(len(dates)):\n",
    "        pro[i]=profits[i]\n",
    "        if not dates[i].split('-')[1] in profit.keys():\n",
    "            profit[dates[i].split('-')[1]] = pro[i]\n",
    "        else:\n",
    "            profit[dates[i].split('-')[1]] += pro[i]\n",
    "    return profit \n",
    "\n",
    "            "
   ]
  },
  {
   "cell_type": "code",
   "execution_count": 539,
   "id": "4b49ec26",
   "metadata": {
    "scrolled": false
   },
   "outputs": [
    {
     "data": {
      "text/plain": [
       "{'09': 25647, '12': 39452, '10': 28645, '11': 25098}"
      ]
     },
     "execution_count": 539,
     "metadata": {},
     "output_type": "execute_result"
    }
   ],
   "source": [
    "monfProf(dat, Pocupki)"
   ]
  }
 ],
 "metadata": {
  "kernelspec": {
   "display_name": "Python 3 (ipykernel)",
   "language": "python",
   "name": "python3"
  },
  "language_info": {
   "codemirror_mode": {
    "name": "ipython",
    "version": 3
   },
   "file_extension": ".py",
   "mimetype": "text/x-python",
   "name": "python",
   "nbconvert_exporter": "python",
   "pygments_lexer": "ipython3",
   "version": "3.10.9"
  }
 },
 "nbformat": 4,
 "nbformat_minor": 5
}
